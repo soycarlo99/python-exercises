{
 "cells": [
  {
   "cell_type": "code",
   "execution_count": 13,
   "id": "25ff5051-718c-4257-87c3-d2dfbdb83743",
   "metadata": {
    "panel-layout": {
     "height": 0,
     "visible": true,
     "width": 100
    }
   },
   "outputs": [
    {
     "name": "stdout",
     "output_type": "stream",
     "text": [
      "Hello world\n"
     ]
    }
   ],
   "source": [
    "print(\"Hello world\")"
   ]
  },
  {
   "cell_type": "code",
   "execution_count": 2,
   "id": "6db819fd-4a9f-4a76-9930-0baec6159e59",
   "metadata": {},
   "outputs": [
    {
     "name": "stdout",
     "output_type": "stream",
     "text": [
      "8\n"
     ]
    }
   ],
   "source": [
    "# Uppgifter 1\n",
    "num_1 = 5\n",
    "num_2 = 3\n",
    "\n",
    "print(num_1+num_2) "
   ]
  },
  {
   "cell_type": "code",
   "execution_count": 5,
   "id": "3c874891-1252-4c17-b806-e415cd1df2a7",
   "metadata": {},
   "outputs": [
    {
     "name": "stdout",
     "output_type": "stream",
     "text": [
      "70\n"
     ]
    }
   ],
   "source": [
    "# uppgifter 2\n",
    "num_1 = 10\n",
    "num_2 = 7\n",
    "\n",
    "print(num_1*num_2) "
   ]
  },
  {
   "cell_type": "code",
   "execution_count": 6,
   "id": "259d7dbc-50bb-48cd-b47b-41739d69f620",
   "metadata": {},
   "outputs": [],
   "source": [
    "# uppgifter 3\n",
    "\n",
    "# it returns the remainder of 10/3"
   ]
  },
  {
   "cell_type": "code",
   "execution_count": 11,
   "id": "11e01587-5e8f-4b82-92b3-2cbcfde72686",
   "metadata": {},
   "outputs": [
    {
     "name": "stdout",
     "output_type": "stream",
     "text": [
      "4.5\n",
      "4\n"
     ]
    }
   ],
   "source": [
    "# uppgifter 4\n",
    "print(27/6)\n",
    "print(27//6)\n",
    "\n",
    "# the only diffrance is that division with // will return only int, so it basiaclly doesn't care about the decimals"
   ]
  },
  {
   "cell_type": "code",
   "execution_count": 16,
   "id": "9fb83fa3-03aa-4e33-8983-63d29d49da4c",
   "metadata": {},
   "outputs": [
    {
     "name": "stdout",
     "output_type": "stream",
     "text": [
      "it's fun to \"learn\" python\n",
      "it's fun to \"learn\" python\n",
      "it's fun to \"learn\" python\n"
     ]
    }
   ],
   "source": [
    "# uppgifter 5\n",
    "\n",
    "# it has only single '' which doesn't work in python. there are several solutions to it\n",
    "print(\"it's fun to \\\"learn\\\" python\")\n",
    "print('it\\'s fun to \"learn\" python')\n",
    "print('''it's fun to \"learn\" python''')"
   ]
  },
  {
   "cell_type": "code",
   "execution_count": 19,
   "id": "0bf332f2-041c-47fa-9036-876732f41663",
   "metadata": {},
   "outputs": [
    {
     "name": "stdout",
     "output_type": "stream",
     "text": [
      "hahaha\n"
     ]
    }
   ],
   "source": [
    "# uppgifter 6 \n",
    "# it print \"ha\" 3 times, so it basically multiplies ha 3 times\n",
    "print(\"ha\"*3)"
   ]
  },
  {
   "cell_type": "code",
   "execution_count": 22,
   "id": "269628db-6fbf-4576-874b-58bab6ac81ea",
   "metadata": {},
   "outputs": [
    {
     "data": {
      "text/plain": [
       "'Anna'"
      ]
     },
     "execution_count": 22,
     "metadata": {},
     "output_type": "execute_result"
    }
   ],
   "source": [
    "# uppgifter 7\n",
    "full_name = \"Anna Andersson\"\n",
    "full_name[:4]"
   ]
  },
  {
   "cell_type": "code",
   "execution_count": 23,
   "id": "d8025d53-99d3-41bc-82ba-d9f6d2e4c235",
   "metadata": {},
   "outputs": [
    {
     "data": {
      "text/plain": [
       "14"
      ]
     },
     "execution_count": 23,
     "metadata": {},
     "output_type": "execute_result"
    }
   ],
   "source": [
    "# uppgifter 8\n",
    "len(full_name)"
   ]
  },
  {
   "cell_type": "code",
   "execution_count": 25,
   "id": "404815e5-2b67-458f-a1cc-7c4708daffb2",
   "metadata": {},
   "outputs": [
    {
     "name": "stdout",
     "output_type": "stream",
     "text": [
      "Hello Guido van Rossum, Python is really fun to learn\n"
     ]
    }
   ],
   "source": [
    "# uppgifter 9 \n",
    "\n",
    "founder = \"Guido van Rossum\"\n",
    "language = \"Python\"\n",
    "\n",
    "print(f\"Hello {founder}, {language} is really fun to learn\")"
   ]
  },
  {
   "cell_type": "code",
   "execution_count": 26,
   "id": "4c1201fe-9def-42a5-9821-4a85d7b8aa71",
   "metadata": {},
   "outputs": [
    {
     "name": "stdout",
     "output_type": "stream",
     "text": [
      "Hello Guido van Rossum, Python is really fun to learn\n"
     ]
    }
   ],
   "source": [
    "# uppgifter 10\n",
    "print(f\"Hello {founder}, {language} is really fun to learn\")"
   ]
  },
  {
   "cell_type": "code",
   "execution_count": null,
   "id": "581e7c72-504b-459a-b196-04369be752da",
   "metadata": {},
   "outputs": [],
   "source": [
    "# uppgift 11\n",
    "# it doesn't work becaues tuples are immutable which means you can't change it."
   ]
  },
  {
   "cell_type": "code",
   "execution_count": 27,
   "id": "94decbdd-d416-4b4d-b06c-08b970d8a56c",
   "metadata": {},
   "outputs": [],
   "source": [
    "# uppgift 12\n",
    "# it creates a tupple with a list inside of it and then it accesses different items inside of it by using indices"
   ]
  },
  {
   "cell_type": "code",
   "execution_count": 28,
   "id": "cfe73548-beea-4533-8230-ec9aa36be094",
   "metadata": {},
   "outputs": [
    {
     "data": {
      "text/plain": [
       "str"
      ]
     },
     "execution_count": 28,
     "metadata": {},
     "output_type": "execute_result"
    }
   ],
   "source": [
    "# uppgift 13\n",
    "my_tuple = ('languages')\n",
    "type(my_tuple)"
   ]
  },
  {
   "cell_type": "code",
   "execution_count": 30,
   "id": "ef66afe3-8f07-485e-95ce-1f4c954afff3",
   "metadata": {},
   "outputs": [
    {
     "data": {
      "text/plain": [
       "[10, 7, 'hi', 3]"
      ]
     },
     "execution_count": 30,
     "metadata": {},
     "output_type": "execute_result"
    }
   ],
   "source": [
    "# uppgift 14\n",
    "# it creates a list and changes the secound item in it from 5 to 7\n",
    "my_first_list = [10, 5, 'hi', 3]\n",
    "my_first_list[1] = 7\n",
    "my_first_list"
   ]
  },
  {
   "cell_type": "code",
   "execution_count": 31,
   "id": "5b38a70a-75bc-4742-b561-2e1c443bc305",
   "metadata": {},
   "outputs": [
    {
     "data": {
      "text/plain": [
       "list"
      ]
     },
     "execution_count": 31,
     "metadata": {},
     "output_type": "execute_result"
    }
   ],
   "source": [
    "# uppgift 15\n",
    "type(my_first_list)"
   ]
  },
  {
   "cell_type": "code",
   "execution_count": 32,
   "id": "57623d8a-efca-4a47-b928-5ba1a863851c",
   "metadata": {},
   "outputs": [
    {
     "data": {
      "text/plain": [
       "4"
      ]
     },
     "execution_count": 32,
     "metadata": {},
     "output_type": "execute_result"
    }
   ],
   "source": [
    "# uppgift 16\n",
    "len(my_first_list)"
   ]
  },
  {
   "cell_type": "code",
   "execution_count": 34,
   "id": "58428639-f593-4a2a-8ee2-cc57708b1730",
   "metadata": {},
   "outputs": [
    {
     "name": "stdout",
     "output_type": "stream",
     "text": [
      "[10, 7, 'hi', 3, 'bread', 'bread']\n"
     ]
    }
   ],
   "source": [
    "# uppgift 17 \n",
    "my_first_list.append('bread')\n",
    "print(my_first_list)"
   ]
  },
  {
   "cell_type": "code",
   "execution_count": 35,
   "id": "1e355b4f-92b9-478d-b77b-9ba3b7d0fff4",
   "metadata": {},
   "outputs": [
    {
     "data": {
      "text/plain": [
       "3"
      ]
     },
     "execution_count": 35,
     "metadata": {},
     "output_type": "execute_result"
    }
   ],
   "source": [
    "# uppgift 18\n",
    "my_numbers = [1, 7, 2, 7, 10, 7]\n",
    "my_numbers.count(7)"
   ]
  },
  {
   "cell_type": "code",
   "execution_count": 36,
   "id": "721c7c35-f3a1-4c05-9984-0a435d69cbc4",
   "metadata": {},
   "outputs": [
    {
     "data": {
      "text/plain": [
       "list"
      ]
     },
     "execution_count": 36,
     "metadata": {},
     "output_type": "execute_result"
    }
   ],
   "source": [
    "# uppgift 19\n",
    "one_tuple = (10, 5, 3)\n",
    "one_list = list(one_tuple)\n",
    "type(one_list)"
   ]
  },
  {
   "cell_type": "code",
   "execution_count": 41,
   "id": "04008945-181f-4cf8-8176-cba86926707d",
   "metadata": {},
   "outputs": [
    {
     "data": {
      "text/plain": [
       "19"
      ]
     },
     "execution_count": 41,
     "metadata": {},
     "output_type": "execute_result"
    }
   ],
   "source": [
    "# uppgift 20\n",
    "# it creates a dictionary and signs the names as keys and their age as their value\n",
    "my_first_dict = {'Anna': 38, 'Goran': 19, 'Lennart': 59, 'Halimah': 28}\n",
    "my_first_dict[ 'Goran']"
   ]
  },
  {
   "cell_type": "code",
   "execution_count": 43,
   "id": "139c0114-31a3-4dd2-957a-4d3a062c15f8",
   "metadata": {},
   "outputs": [
    {
     "data": {
      "text/plain": [
       "dict"
      ]
     },
     "execution_count": 43,
     "metadata": {},
     "output_type": "execute_result"
    }
   ],
   "source": [
    "# uppgift 21\n",
    "type(my_first_dict)"
   ]
  },
  {
   "cell_type": "code",
   "execution_count": 45,
   "id": "f694a7f0-dec3-48a0-be0e-1967ccfb015c",
   "metadata": {},
   "outputs": [
    {
     "name": "stdout",
     "output_type": "stream",
     "text": [
      "{10, 2, 5}\n"
     ]
    }
   ],
   "source": [
    "# uppgift 22 \n",
    "# because sets doesn't care about dublicates, it just removes them basically\n",
    "my_set = {10, 5, 2, 5, 5}\n",
    "print(my_set)"
   ]
  },
  {
   "cell_type": "code",
   "execution_count": 53,
   "id": "c8f47437-6af1-4de2-b000-dd22455dc9a6",
   "metadata": {},
   "outputs": [
    {
     "name": "stdout",
     "output_type": "stream",
     "text": [
      "{3, 5}\n",
      "{1, 2, 3, 4, 5, 7, 10}\n",
      "{1, 2, 4}\n"
     ]
    }
   ],
   "source": [
    "# uppgift 23\n",
    "A = {1, 2, 3, 4, 5}\n",
    "B = { 3 , 10 , 5 , 7}\n",
    "\n",
    "print(A.intersection(B))\n",
    "print(A.union(B))\n",
    "print(A.difference(B))"
   ]
  },
  {
   "cell_type": "code",
   "execution_count": 58,
   "id": "9f15564c-954a-4ed0-86a2-bc63cdc5ee25",
   "metadata": {},
   "outputs": [
    {
     "name": "stdout",
     "output_type": "stream",
     "text": [
      "{5}\n",
      "{1, 2, 3, 4, 5, 6, 10, 21}\n"
     ]
    }
   ],
   "source": [
    "# uppgift 24\n",
    "list_a = [1, 2, 3, 4, 5]\n",
    "list_b = [5, 6, 10, 21]\n",
    "\n",
    "set_aa = set(list_a)\n",
    "set_bb = set(list_b)\n",
    "\n",
    "print(set_aa.intersection(set_bb))\n",
    "print(set_bb.union(set_aa))"
   ]
  },
  {
   "cell_type": "code",
   "execution_count": 59,
   "id": "901d9506-056f-44c6-9d51-edf0c8a9931c",
   "metadata": {},
   "outputs": [
    {
     "name": "stdout",
     "output_type": "stream",
     "text": [
      "{1, 10, 2}\n"
     ]
    }
   ],
   "source": [
    "# uppgift 25\n",
    "# here I used set to remove the duplicates\n",
    "duplicate_values = (10, 2, 2, 10, 1)\n",
    "print(set(duplicate_values))"
   ]
  }
 ],
 "metadata": {
  "kernelspec": {
   "display_name": "Python 3 (ipykernel)",
   "language": "python",
   "name": "python3"
  },
  "language_info": {
   "codemirror_mode": {
    "name": "ipython",
    "version": 3
   },
   "file_extension": ".py",
   "mimetype": "text/x-python",
   "name": "python",
   "nbconvert_exporter": "python",
   "pygments_lexer": "ipython3",
   "version": "3.12.7"
  },
  "panel-cell-order": [
   "25ff5051-718c-4257-87c3-d2dfbdb83743"
  ]
 },
 "nbformat": 4,
 "nbformat_minor": 5
}
