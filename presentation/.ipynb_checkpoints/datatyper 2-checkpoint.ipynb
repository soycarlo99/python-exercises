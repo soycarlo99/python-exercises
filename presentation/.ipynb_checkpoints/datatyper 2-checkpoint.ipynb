{
 "cells": [
  {
   "cell_type": "code",
   "execution_count": null,
   "metadata": {},
   "outputs": [],
   "source": [
    "''' Datatyper i Python\n",
    "Vad är en datatyp?\n",
    "En datatyp beskriver vilken sorts värde en variabel kan ha och vilka operationer \n",
    "som är tillåtna på det värdet. '''"
   ]
  },
  {
   "cell_type": "code",
   "execution_count": 1,
   "metadata": {},
   "outputs": [
    {
     "name": "stdout",
     "output_type": "stream",
     "text": [
      "<class 'int'>\n",
      "30\n",
      "23\n",
      "50\n",
      "6\n",
      "1\n",
      "625\n"
     ]
    }
   ],
   "source": [
    "''' Vanliga datatyper\n",
    "1. Heltal (int) '''\n",
    "age = 25\n",
    "print(type(age))  # <class 'int'>\n",
    "# Vanliga operationer:\n",
    "print(age + 5)    # Addition\n",
    "print(age - 2)    # Subtraktion\n",
    "print(age * 2)    # Multiplikation\n",
    "print(age // 4)   # Heltalsdivision\n",
    "print(age % 4)    # Modulo\n",
    "print(age ** 2)   # Upphöjt i"
   ]
  },
  {
   "cell_type": "code",
   "execution_count": 2,
   "metadata": {},
   "outputs": [
    {
     "name": "stdout",
     "output_type": "stream",
     "text": [
      "<class 'float'>\n",
      "4.140000000000001\n",
      "6.28\n",
      "3\n"
     ]
    }
   ],
   "source": [
    "''' 2. Flyttal (float)\n",
    "Hanterar decimaltal, t.ex. 3.14, -0.5 '''\n",
    "pi = 3.14\n",
    "print(type(pi))  # <class 'float'>\n",
    "# Vanliga operationer:\n",
    "print(pi + 1.0)   # Addition\n",
    "print(pi * 2)     # Multiplikation\n",
    "print(round(pi))  # Avrunda"
   ]
  },
  {
   "cell_type": "code",
   "execution_count": 4,
   "metadata": {},
   "outputs": [
    {
     "name": "stdout",
     "output_type": "stream",
     "text": [
      "<class 'str'>\n",
      "ANNA\n",
      "anna\n",
      "Anna Karlsson\n",
      "A\n",
      "4\n"
     ]
    }
   ],
   "source": [
    "''' 3. Sträng (str)\n",
    "Text, t.ex. \"Hej\", 'Python' '''\n",
    "name = \"Anna\"\n",
    "print(type(name))  # <class 'str'>\n",
    "# Vanliga operationer:\n",
    "print(name.upper())      # Versaler\n",
    "print(name.lower())      # Gemener\n",
    "print(name + \" Karlsson\") # Konkatenation\n",
    "print(name[0])           # Indexering\n",
    "print(len(name))         # Längd"
   ]
  },
  {
   "cell_type": "code",
   "execution_count": 5,
   "metadata": {},
   "outputs": [
    {
     "name": "stdout",
     "output_type": "stream",
     "text": [
      "<class 'bool'>\n",
      "False\n",
      "True\n",
      "False\n"
     ]
    }
   ],
   "source": [
    "''' 4. Boolesk (bool)\n",
    "Sant eller falskt, True eller False '''\n",
    "is_sunny = True\n",
    "print(type(is_sunny))  # <class 'bool'>\n",
    "# Vanliga operationer:\n",
    "print(is_sunny and False) # Logiskt OCH\n",
    "print(is_sunny or False)  # Logiskt ELLER\n",
    "print(not is_sunny)       # Logisk negation"
   ]
  },
  {
   "cell_type": "code",
   "execution_count": 6,
   "metadata": {},
   "outputs": [
    {
     "name": "stdout",
     "output_type": "stream",
     "text": [
      "<class 'list'>\n",
      "2\n",
      "4\n",
      "[1, 3, 4, 5, 6]\n"
     ]
    }
   ],
   "source": [
    "''' 5. Lista (list)\n",
    "En samling av värden, kan förändras(mutable) t.ex. [1, 2, 3] '''\n",
    "numbers = [1, 2, 3]\n",
    "print(type(numbers))  # <class 'list'>\n",
    "# Vanliga operationer:\n",
    "numbers.append(4)     # Lägg till element\n",
    "print(numbers[1])     # Indexering\n",
    "print(len(numbers))   # Längd\n",
    "numbers.remove(2)     # Ta bort element\n",
    "print(numbers + [5, 6]) # Konkatenation"
   ]
  },
  {
   "cell_type": "code",
   "execution_count": 7,
   "metadata": {},
   "outputs": [
    {
     "name": "stdout",
     "output_type": "stream",
     "text": [
      "<class 'tuple'>\n",
      "10\n",
      "2\n",
      "(10, 20, 30)\n"
     ]
    }
   ],
   "source": [
    "'''6. Tuple (tuple)\n",
    "En ordnad, oföränderlig (immutable) samling av värden.\n",
    " '''\n",
    "coordinates = (10, 20)\n",
    "print(type(coordinates))  # <class 'tuple'>\n",
    "# Vanliga operationer:\n",
    "print(coordinates[0])     # Indexering\n",
    "print(len(coordinates))   # Längd\n",
    "print(coordinates + (30,)) # Konkatenation"
   ]
  },
  {
   "cell_type": "code",
   "execution_count": 8,
   "metadata": {},
   "outputs": [
    {
     "name": "stdout",
     "output_type": "stream",
     "text": [
      "<class 'dict'>\n",
      "Anna\n",
      "dict_keys(['name', 'age', 'city'])\n",
      "dict_values(['Anna', 26, 'Stockholm'])\n"
     ]
    }
   ],
   "source": [
    "'''7. Dictionary (dict)\n",
    "En samling av nyckel-värde-par (key-value pairs)(mutable) '''\n",
    "person = {\"name\": \"Anna\", \"age\": 25}\n",
    "print(type(person))  # <class 'dict'>\n",
    "# Vanliga operationer:\n",
    "print(person[\"name\"])     # Hämta värde via nyckel\n",
    "person[\"age\"] = 26        # Ändra värde\n",
    "person[\"city\"] = \"Stockholm\" # Lägg till nyckel/värde\n",
    "print(person.keys())      # Lista nycklar\n",
    "print(person.values())    # Lista värden"
   ]
  },
  {
   "cell_type": "code",
   "execution_count": 9,
   "metadata": {},
   "outputs": [
    {
     "name": "stdout",
     "output_type": "stream",
     "text": [
      "<class 'set'>\n",
      "True\n",
      "{1, 3, 4, 5, 6}\n"
     ]
    }
   ],
   "source": [
    "'''8. Set (set)\n",
    "En osorterad samling av unika värden. (mutable) '''\n",
    "unique_numbers = {1, 2, 3}\n",
    "print(type(unique_numbers))  # <class 'set'>\n",
    "# Vanliga operationer:\n",
    "unique_numbers.add(4)        # Lägg till element\n",
    "unique_numbers.remove(2)     # Ta bort element\n",
    "print(1 in unique_numbers)   # Medlemskapstest\n",
    "print(unique_numbers.union({5, 6})) # Union"
   ]
  },
  {
   "cell_type": "code",
   "execution_count": 10,
   "metadata": {},
   "outputs": [
    {
     "name": "stdout",
     "output_type": "stream",
     "text": [
      "<class 'NoneType'>\n",
      "True\n"
     ]
    }
   ],
   "source": [
    "'''9. NoneType (None)\n",
    "Representerar frånvaro av värde. (immutable) '''\n",
    "value = None\n",
    "print(type(value))  # <class 'NoneType'>\n",
    "# Vanliga operationer:\n",
    "print(value is None) # Jämförelse"
   ]
  },
  {
   "cell_type": "code",
   "execution_count": 11,
   "metadata": {},
   "outputs": [
    {
     "name": "stdout",
     "output_type": "stream",
     "text": [
      "<class 'bytes'>\n",
      "104\n",
      "hello\n",
      "5\n"
     ]
    }
   ],
   "source": [
    "'''10. Bytes (bytes)\n",
    "En sekvens av byte, används ofta för binär data. (immutable) '''\n",
    "data = b\"hello\"\n",
    "print(type(data))  # <class 'bytes'>\n",
    "# Vanliga operationer:\n",
    "print(data[0])         # Indexering\n",
    "print(data.decode())   # Konvertera till sträng\n",
    "print(len(data))       # Längd"
   ]
  }
 ],
 "metadata": {
  "kernelspec": {
   "display_name": ".venv",
   "language": "python",
   "name": "python3"
  },
  "language_info": {
   "codemirror_mode": {
    "name": "ipython",
    "version": 3
   },
   "file_extension": ".py",
   "mimetype": "text/x-python",
   "name": "python",
   "nbconvert_exporter": "python",
   "pygments_lexer": "ipython3",
   "version": "3.13.3"
  }
 },
 "nbformat": 4,
 "nbformat_minor": 2
}
