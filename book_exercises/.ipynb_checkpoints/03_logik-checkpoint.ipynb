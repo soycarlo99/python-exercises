{
 "cells": [
  {
   "cell_type": "markdown",
   "id": "92b5c548-e8ea-4ce8-a138-b3343118191b",
   "metadata": {},
   "source": [
    "# Uppgifter, Kapitel 3 - Logik"
   ]
  },
  {
   "cell_type": "markdown",
   "id": "0ca8aab7-7fa4-4284-b810-ce883acca33e",
   "metadata": {},
   "source": [
    "1. Förklara vad nedanstående kod gör. "
   ]
  },
  {
   "cell_type": "code",
   "execution_count": null,
   "id": "58d26d8d-1bd9-4b72-bf22-9be8a2773ee0",
   "metadata": {},
   "outputs": [],
   "source": [
    "age = 23\n",
    "\n",
    "if age > 18: \n",
    "    print('You can take a drivers license')\n",
    "else: \n",
    "    print('You are too young to take a drivers license')"
   ]
  },
  {
   "cell_type": "markdown",
   "id": "f6983bcb-5cd5-4b6a-a714-cc34e07b8d98",
   "metadata": {},
   "source": [
    "if you are older than 18 it prints you can take drivers license otherwise not allowed"
   ]
  },
  {
   "cell_type": "markdown",
   "id": "1a3c64ed-c59f-4b3e-86c7-cb60dfd30274",
   "metadata": {},
   "source": [
    "2. Skapa ett program som undersöker om värdet i variabeln x nedan är större än 10, mellan 10 och 5, eller mindre än 5 där någon text printas ut för varje av de tre fallen som undersöks. "
   ]
  },
  {
   "cell_type": "code",
   "execution_count": 24,
   "id": "23c7a46d-a60a-45cb-8930-f7afc52e4d6a",
   "metadata": {},
   "outputs": [],
   "source": [
    "x = 7"
   ]
  },
  {
   "cell_type": "code",
   "execution_count": 27,
   "id": "c0e433fa-ec9e-4424-8b98-b24e93c36af2",
   "metadata": {},
   "outputs": [
    {
     "name": "stdout",
     "output_type": "stream",
     "text": [
      "between 10 and 5\n"
     ]
    }
   ],
   "source": [
    "if x > 10:\n",
    "    print('bigger than 10')\n",
    "if 10 > x > 5:\n",
    "    print('between 10 and 5')\n",
    "if x < 5:\n",
    "    print('smaller than 5')"
   ]
  },
  {
   "cell_type": "markdown",
   "id": "fdb7b75d-4108-41b5-884c-75b2ef55ad5e",
   "metadata": {},
   "source": [
    "3. Varför blir resultatet \"True\" när koden nedan exekveras? "
   ]
  },
  {
   "cell_type": "code",
   "execution_count": null,
   "id": "c7bfb67c-3943-4425-b32d-1116471a18b7",
   "metadata": {},
   "outputs": [],
   "source": [
    "1 == True"
   ]
  },
  {
   "cell_type": "markdown",
   "id": "8be05f46-2f8f-44cb-94d1-c85d4f70463c",
   "metadata": {},
   "source": [
    "Because booleans are ints behind the scences"
   ]
  },
  {
   "cell_type": "markdown",
   "id": "d836c554-c739-4def-8f1a-27cbfc3bc3ed",
   "metadata": {},
   "source": [
    "**The Cauchy-Schwarz Inequality**\\\n",
    "$$\\left( \\sum_{k=1}^n a_k b_k \\right)^2 \\leq \\left( \\sum_{k=1}^n a_k^2 \\right) \\left( \\sum_{k=1}^n b_k^2 \\right)$$"
   ]
  },
  {
   "cell_type": "markdown",
   "id": "30ac30bc-2197-41c8-8ece-4f654a0063a4",
   "metadata": {},
   "source": [
    "4. Vad blir resultatet om nedanstående kod exekveras? "
   ]
  },
  {
   "cell_type": "code",
   "execution_count": 28,
   "id": "85699762-c937-446b-bc00-83892d5ee3d2",
   "metadata": {},
   "outputs": [
    {
     "data": {
      "text/plain": [
       "False"
      ]
     },
     "execution_count": 28,
     "metadata": {},
     "output_type": "execute_result"
    }
   ],
   "source": [
    "10 > 15"
   ]
  },
  {
   "cell_type": "markdown",
   "id": "099095f1-3e2c-4d8b-8b49-e0035cf5fe7c",
   "metadata": {},
   "source": [
    "False, because 10 is smaller than 15"
   ]
  },
  {
   "cell_type": "markdown",
   "id": "552565f2-116c-4405-9dbe-0eb443df5b10",
   "metadata": {
    "jp-MarkdownHeadingCollapsed": true
   },
   "source": [
    "5. Vad blir resultatet om nedanstående kod exekveras? "
   ]
  },
  {
   "cell_type": "code",
   "execution_count": 29,
   "id": "ec7a2f6d-e361-4062-83ae-b89b7f0d0c06",
   "metadata": {},
   "outputs": [
    {
     "data": {
      "text/plain": [
       "True"
      ]
     },
     "execution_count": 29,
     "metadata": {},
     "output_type": "execute_result"
    }
   ],
   "source": [
    "7 >= 7"
   ]
  },
  {
   "cell_type": "markdown",
   "id": "555335ca-ed50-4624-8be5-3bc61e1c8076",
   "metadata": {},
   "source": [
    "True, because 7 is equal to 7"
   ]
  },
  {
   "cell_type": "markdown",
   "id": "9fe4c315-9f61-4d5e-9c79-e5392f05d771",
   "metadata": {},
   "source": [
    "6. Vad blir resultatet om nedanstående kod exekveras? "
   ]
  },
  {
   "cell_type": "code",
   "execution_count": null,
   "id": "0f509e58-728c-434a-8615-0c6c90d715d1",
   "metadata": {},
   "outputs": [],
   "source": [
    "3 != 3"
   ]
  },
  {
   "cell_type": "markdown",
   "id": "daecb190-7024-415f-85f0-b18a680a6ddd",
   "metadata": {},
   "source": [
    "False, because 3 is actually equal to 3"
   ]
  },
  {
   "cell_type": "markdown",
   "id": "39a98cf3-d025-47a0-ac05-63848a38bf47",
   "metadata": {},
   "source": [
    "7. Vad blir resultatet om nedanstående kod exekveras? "
   ]
  },
  {
   "cell_type": "code",
   "execution_count": 31,
   "id": "0267f9bb-d478-4df2-a48d-71aed9036f90",
   "metadata": {},
   "outputs": [
    {
     "data": {
      "text/plain": [
       "False"
      ]
     },
     "execution_count": 31,
     "metadata": {},
     "output_type": "execute_result"
    }
   ],
   "source": [
    "5 >= 5 and 5 > 6"
   ]
  },
  {
   "cell_type": "markdown",
   "id": "3fb00c45-39ea-4889-bb03-9ad31ff63107",
   "metadata": {},
   "source": [
    "False because the and operator needs all conditions to be met for this to work"
   ]
  },
  {
   "cell_type": "markdown",
   "id": "a9d53816-8e77-4d5f-8c31-204fd5e829a9",
   "metadata": {},
   "source": [
    "8. Vad blir resultatet om nedanstående kod exekveras? "
   ]
  },
  {
   "cell_type": "code",
   "execution_count": 32,
   "id": "616d9678-75e3-42e5-8ec6-4b6fe4cf2cf5",
   "metadata": {},
   "outputs": [
    {
     "data": {
      "text/plain": [
       "True"
      ]
     },
     "execution_count": 32,
     "metadata": {},
     "output_type": "execute_result"
    }
   ],
   "source": [
    "5 >= 5 or 5 > 6\n"
   ]
  },
  {
   "cell_type": "markdown",
   "id": "7cd708b3-21ae-400c-a4fd-c6933fdb9951",
   "metadata": {},
   "source": [
    "true, because or operator needs only one of the conditions to be met"
   ]
  },
  {
   "cell_type": "markdown",
   "id": "d62b6831-c7e7-4be3-8984-2a1e27b3c548",
   "metadata": {},
   "source": [
    "9. Vad blir resultatet om nedanstående kod exekveras? "
   ]
  },
  {
   "cell_type": "code",
   "execution_count": 33,
   "id": "92c97259-3a15-45a5-9bbd-69826dc3ab5a",
   "metadata": {},
   "outputs": [
    {
     "data": {
      "text/plain": [
       "True"
      ]
     },
     "execution_count": 33,
     "metadata": {},
     "output_type": "execute_result"
    }
   ],
   "source": [
    "(5 > 4 and 5 >=5) or (10 > 2 and 3 > 100)"
   ]
  },
  {
   "cell_type": "markdown",
   "id": "56856b13-6593-46b1-8c21-3b7fc01fdb9c",
   "metadata": {},
   "source": [
    "true, because one of the conditions is met for the or operator in the middle"
   ]
  },
  {
   "cell_type": "markdown",
   "id": "5baaf82c-2a97-4286-b6ea-efe246564c0b",
   "metadata": {},
   "source": [
    "10. Förklara skillnaden mellan nedanstående två kodblock. "
   ]
  },
  {
   "cell_type": "code",
   "execution_count": null,
   "id": "41f1eb25-f4a6-4c22-8314-8257f86c2b33",
   "metadata": {},
   "outputs": [],
   "source": [
    "number = 8"
   ]
  },
  {
   "cell_type": "code",
   "execution_count": null,
   "id": "66704f9a-6d15-482d-9e56-c17f6c77725e",
   "metadata": {},
   "outputs": [],
   "source": [
    "if number < 5:\n",
    "    print('Less than 5')\n",
    "if number < 10:\n",
    "    print('Less than 10')\n",
    "if number < 100:\n",
    "    print('Less than 100')"
   ]
  },
  {
   "cell_type": "code",
   "execution_count": null,
   "id": "a92ec69b-045f-47f0-b9da-9e7c1eeb22bd",
   "metadata": {},
   "outputs": [],
   "source": [
    "if number < 5:\n",
    "    print('Less than 5')\n",
    "elif number < 10:\n",
    "    print('Less than 10')\n",
    "elif number < 100:\n",
    "    print('Less than 100')"
   ]
  },
  {
   "cell_type": "markdown",
   "id": "94941923-6a6a-47df-b969-a77ae1d3bb7a",
   "metadata": {},
   "source": [
    "one of them is checking all the conditions doesn't matter what the previous one did, and the secound one breaks out if it meet the condition"
   ]
  }
 ],
 "metadata": {
  "kernelspec": {
   "display_name": "Python 3 (ipykernel)",
   "language": "python",
   "name": "python3"
  },
  "language_info": {
   "codemirror_mode": {
    "name": "ipython",
    "version": 3
   },
   "file_extension": ".py",
   "mimetype": "text/x-python",
   "name": "python",
   "nbconvert_exporter": "python",
   "pygments_lexer": "ipython3",
   "version": "3.12.7"
  }
 },
 "nbformat": 4,
 "nbformat_minor": 5
}
