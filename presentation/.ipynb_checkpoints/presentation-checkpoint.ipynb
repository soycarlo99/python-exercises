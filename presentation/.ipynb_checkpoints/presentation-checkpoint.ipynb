{
 "cells": [
  {
   "cell_type": "markdown",
   "id": "9b4f67e8-3b2f-4b47-83e9-c6ed80bb82ef",
   "metadata": {},
   "source": [
    "# functions "
   ]
  },
  {
   "cell_type": "markdown",
   "id": "3cd13958-ba86-436a-b59e-8398e6d14ad4",
   "metadata": {},
   "source": [
    "A function is a block of code which only runs when it is called.\n",
    "\n",
    "You can pass data, known as parameters, into a function.\n",
    "\n",
    "A function can return data as a result."
   ]
  },
  {
   "cell_type": "code",
   "execution_count": null,
   "id": "1f820d09-f959-47d4-804c-55ed55a2f7d4",
   "metadata": {},
   "outputs": [],
   "source": [
    "def my_function():\n",
    "    return 0"
   ]
  },
  {
   "cell_type": "code",
   "execution_count": null,
   "id": "d1850c4f-42a2-4ad8-ac5d-a926dad284d0",
   "metadata": {},
   "outputs": [],
   "source": [
    "my_function()"
   ]
  },
  {
   "cell_type": "markdown",
   "id": "ef659d6e-4c83-4143-a1fa-ddfb5534a29d",
   "metadata": {},
   "source": [
    "# Arguments"
   ]
  },
  {
   "cell_type": "markdown",
   "id": "2477b14b-9fea-4ebc-b784-4e9e3e43523c",
   "metadata": {},
   "source": [
    "Information can be passed into functions as arguments in the prrentheses at the end of a function."
   ]
  },
  {
   "cell_type": "code",
   "execution_count": null,
   "id": "40e4615d-5384-4bc9-a141-68ae0471266d",
   "metadata": {},
   "outputs": [],
   "source": [
    "def greeting(name): # name is a parameter\n",
    "    print(f\"Hello {name}, wellcome back!\")"
   ]
  },
  {
   "cell_type": "code",
   "execution_count": null,
   "id": "f2835d77-99c0-4205-8f98-c7879d02d55c",
   "metadata": {},
   "outputs": [],
   "source": [
    "greeting(\"Obama\") # Obama is an argument"
   ]
  },
  {
   "cell_type": "markdown",
   "id": "668ec154-ff75-4476-9c99-a60e13aa9d9b",
   "metadata": {},
   "source": [
    "# Arguments vs Parameters"
   ]
  },
  {
   "cell_type": "markdown",
   "id": "7608d1b7-cd0b-42c7-abf9-ba892179eac4",
   "metadata": {},
   "source": [
    "Parameters or Arguments?\n",
    "\n",
    "A parameter is the variable listed inside the parentheses in the function definition.\n",
    "\n",
    "An argument is the value that is sent to the function when it is called.\n"
   ]
  },
  {
   "cell_type": "markdown",
   "id": "16ba49b1-cf4f-4b3b-9160-967404dd538c",
   "metadata": {},
   "source": [
    "# number of arguments"
   ]
  },
  {
   "cell_type": "markdown",
   "id": "93bc87c9-1b6b-478e-a13f-edb6cfd4191f",
   "metadata": {},
   "source": [
    "By default, a function must be called with the correct number of arguments. "
   ]
  },
  {
   "cell_type": "code",
   "execution_count": null,
   "id": "88d9d78d-748e-4408-91bd-af8bcb0c6d26",
   "metadata": {
    "scrolled": true
   },
   "outputs": [],
   "source": [
    "def name_combinator(fname, lname):\n",
    "  print(fname + \" \" + lname)\n",
    "\n",
    "name_combinator(\"Carlo\", \"Rydén\")"
   ]
  },
  {
   "cell_type": "markdown",
   "id": "b33ff747-763b-4dab-a2db-4523a93b18e5",
   "metadata": {},
   "source": [
    "# Default Parameter Value"
   ]
  },
  {
   "cell_type": "markdown",
   "id": "4e228c00-256b-4542-9f34-76afa5de3cee",
   "metadata": {},
   "source": [
    "If we call the function without argument, it uses the default value:"
   ]
  },
  {
   "cell_type": "code",
   "execution_count": null,
   "id": "a30dfee5-1c92-45de-8b45-1a91e0b6a98f",
   "metadata": {},
   "outputs": [],
   "source": [
    "def country(country = \"Norway\"):\n",
    "  print(\"I am from \" + country)\n",
    "\n",
    "country(\"Sweden\")\n",
    "country(\"India\")\n",
    "country()\n",
    "country(\"Brazil\")"
   ]
  },
  {
   "cell_type": "markdown",
   "id": "b838ace3-88cd-47ff-8e43-82f6e7a44eae",
   "metadata": {},
   "source": [
    "# Python Lambda functions ∧"
   ]
  },
  {
   "cell_type": "markdown",
   "id": "6e7e3768-afdd-4f55-8248-9dd07d0ebd94",
   "metadata": {},
   "source": [
    "A lambda function is a small anonymous function.\n",
    "\n",
    "A lambda function can take any number of arguments, but can only have one expression."
   ]
  },
  {
   "cell_type": "code",
   "execution_count": null,
   "id": "cd605538-bf91-44ea-9933-4c48cbfe79e3",
   "metadata": {},
   "outputs": [],
   "source": [
    "x = lambda a, b : a * b\n",
    "print(x(5, 6))\n",
    "print(x(10, 5))"
   ]
  }
 ],
 "metadata": {
  "kernelspec": {
   "display_name": "Python 3 (ipykernel)",
   "language": "python",
   "name": "python3"
  },
  "language_info": {
   "codemirror_mode": {
    "name": "ipython",
    "version": 3
   },
   "file_extension": ".py",
   "mimetype": "text/x-python",
   "name": "python",
   "nbconvert_exporter": "python",
   "pygments_lexer": "ipython3",
   "version": "3.12.7"
  }
 },
 "nbformat": 4,
 "nbformat_minor": 5
}
