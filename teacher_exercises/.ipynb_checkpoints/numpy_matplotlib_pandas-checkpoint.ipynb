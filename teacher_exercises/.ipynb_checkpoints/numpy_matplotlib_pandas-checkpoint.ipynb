{
 "cells": [
  {
   "cell_type": "markdown",
   "id": "cb90847a-0b05-4ebb-a1fd-d94090ac38f0",
   "metadata": {},
   "source": [
    "# Introduction to NumPy, Matplotlib, Pandas"
   ]
  },
  {
   "cell_type": "markdown",
   "id": "7a99f931-cdbd-43da-bff2-9014be306176",
   "metadata": {},
   "source": [
    "This script gives an short overview of NumPy, Matplotlib and Pandas. \n",
    "* NumPy gives access to a new datatype, \"array\" which is useful when doing calculations. Will be much used in AI courses.\n",
    "* Matplotlib is used for plotting. In general the data plotted is an NumPy array or something that can be converted to a NumPy array such as list or pandas dataframe.\n",
    "* Pandas is a library for handling tabular data. Intuitively, things you can do in Excel can be done in Pandas.\n",
    "  If you don't know Excel you can learn it in this video: https://www.youtube.com/watch?v=4UMLFC1SoHM&list=PLgzaMbMPEHEx2aR9-EXfD6psvezSMcHJ6&index=1&t=15s\n",
    "  See chapter 1-6 and chapter 8 which covers the basics. "
   ]
  },
  {
   "cell_type": "code",
   "execution_count": null,
   "id": "80dbc109-81c9-4298-93b7-26cd16717c9b",
   "metadata": {},
   "outputs": [],
   "source": [
    "import numpy as np\n",
    "import matplotlib.pyplot as plt\n",
    "import pandas as pd"
   ]
  },
  {
   "cell_type": "markdown",
   "id": "89975beb-0fa8-401c-9baf-105d104ee658",
   "metadata": {},
   "source": [
    "# NumPy"
   ]
  },
  {
   "cell_type": "code",
   "execution_count": null,
   "id": "5fb301f9-ec56-4376-8a50-bb0cf3545f3f",
   "metadata": {},
   "outputs": [],
   "source": [
    "A = np.arange(1, 16).reshape(3,5)\n",
    "print(A)\n",
    "print(A.ndim)\n",
    "print(A.shape)\n",
    "print(A.size)\n",
    "print(A.dtype)"
   ]
  },
  {
   "cell_type": "code",
   "execution_count": null,
   "id": "30a26a9e-c722-4b9c-9d79-499257734cf1",
   "metadata": {},
   "outputs": [],
   "source": [
    "B = np.arange(1, 10).reshape(3, 3)\n",
    "print(B)"
   ]
  },
  {
   "cell_type": "code",
   "execution_count": null,
   "id": "a13f4ab6-d40f-4974-9e77-2f351167d4c3",
   "metadata": {},
   "outputs": [],
   "source": [
    "print(np.min(B))\n",
    "print(np.min(B, axis = 0))  # Taking the first column row-wise, then the second column and so on. \n",
    "print(np.min(B, axis = 1))  # Taking the first row column-wise, then the second row and so on.  \n",
    "print() \n",
    "\n",
    "print(np.argmin(B))  # The output will be the index of the element in the form of a flattened array.\n",
    "print(np.argmin(B, axis = 0))\n",
    "print()\n",
    "\n",
    "print(np.sum(B))\n",
    "print(np.mean(B, axis = 1))\n",
    "print(np.median(B, axis = 1))"
   ]
  },
  {
   "cell_type": "markdown",
   "id": "651399d0-4e8e-44f0-a9b5-ffb1a79a12b9",
   "metadata": {},
   "source": [
    "# Matplotlib"
   ]
  },
  {
   "cell_type": "markdown",
   "id": "dba211a3-5a54-4391-9bbc-ce386e93d691",
   "metadata": {},
   "source": [
    "Plotting functions expect numpy.array or objects that can be passed to numpy.asarray. Classes that are similar to arrays ('array-like') such as pandas data objects.\n",
    "\n",
    "* Figure: This is the whole figure and can be seen as a canvas. \n",
    "* Axes: The part of the \"canvas\" that the plot is attached on. We call methods that do the plotting directly from the Axes which gives high flexibility in customizing our plots. \n",
    "* Axis: Sets the scale and limits and generate ticks (the marks on the Axis) and ticklabels (strings labeling the ticks).\n",
    "* Artist: Basically everything visible on the figure is an artist, including figure, axes and axis. Most Artists are tied to an Axes.\n"
   ]
  },
  {
   "cell_type": "code",
   "execution_count": null,
   "id": "2af127aa-e42e-427c-a4e2-9afb5fa571f8",
   "metadata": {},
   "outputs": [],
   "source": [
    "x = np.linspace(-4, 4, 100)\n",
    "# print(x)\n",
    "y = x**2\n",
    "\n",
    "fig, ax = plt.subplots()\n",
    "ax.plot(x, y)\n",
    "ax.set_title('y = x^2')\n",
    "ax.set_xlabel('x')\n",
    "ax.set_ylabel('y')"
   ]
  },
  {
   "cell_type": "code",
   "execution_count": null,
   "id": "f7ab91a6-f610-4b90-89a8-60f510fd301a",
   "metadata": {},
   "outputs": [],
   "source": [
    "np.random.seed(15)\n",
    "random_data_x = np.random.randn(1000)\n",
    "random_data_y = np.random.randn(1000)\n",
    "x = np.linspace(-2, 2, 100)\n",
    "y = x**2\n",
    "\n",
    "fruit_data = {'grapes': 22, 'apple': 8, 'orange': 15, 'lemon': 20, 'lime': 25}\n",
    "names = list(fruit_data.keys())\n",
    "values = list(fruit_data.values())\n",
    "\n",
    "# Creating Subplots.\n",
    "fig, axs = plt.subplots(1, 2,layout='constrained')\n",
    "fig.suptitle('Different Plots', size = 30)\n",
    "\n",
    "axs[0].scatter(random_data_x, random_data_y)\n",
    "axs[0].set_title('Scatter Plot')\n",
    "\n",
    "axs[1].bar(names, values)\n",
    "axs[1].set_title('Bar Plot')"
   ]
  },
  {
   "cell_type": "markdown",
   "id": "f03543a1-8107-43c4-a420-6cb5e5eeee49",
   "metadata": {},
   "source": [
    "# Pandas"
   ]
  },
  {
   "cell_type": "code",
   "execution_count": null,
   "id": "7e631758-bcb4-46a7-8982-e59956f8a78d",
   "metadata": {},
   "outputs": [],
   "source": [
    "cars = pd.read_csv(\"cars_data.csv\")"
   ]
  },
  {
   "cell_type": "code",
   "execution_count": null,
   "id": "96becde9-16d0-4675-8630-cc6d8fe2e43a",
   "metadata": {},
   "outputs": [],
   "source": [
    "cars.head(10)"
   ]
  },
  {
   "cell_type": "code",
   "execution_count": null,
   "id": "d3141385-7498-40bd-9f4d-126b86373196",
   "metadata": {},
   "outputs": [],
   "source": [
    "cars.info()"
   ]
  },
  {
   "cell_type": "code",
   "execution_count": null,
   "id": "ec7c6986-fa24-45e6-bb28-14674c857cb2",
   "metadata": {},
   "outputs": [],
   "source": [
    "cars.dropna(how = 'any', inplace = True)"
   ]
  },
  {
   "cell_type": "code",
   "execution_count": null,
   "id": "e6c2b219-6fc4-47e6-a357-292cbc51e8d1",
   "metadata": {},
   "outputs": [],
   "source": [
    "cars.mean(numeric_only = True)"
   ]
  },
  {
   "cell_type": "code",
   "execution_count": null,
   "id": "41a6bb31-5c02-4b87-a731-b0f524245d0c",
   "metadata": {},
   "outputs": [],
   "source": []
  },
  {
   "cell_type": "code",
   "execution_count": null,
   "id": "783bec56-5dbc-4dc3-be3e-ec68e88164e6",
   "metadata": {},
   "outputs": [],
   "source": [
    "avg_price = cars.groupby(\"company\")[\"price\"].mean().sort_values(ascending=False)\n",
    "\n",
    "# Plot\n",
    "avg_price.plot(kind='bar', figsize=(10, 6), title='Average Car Price by Company', color='skyblue')\n",
    "plt.ylabel('Average Price')\n",
    "plt.tight_layout()\n",
    "plt.show()"
   ]
  },
  {
   "cell_type": "code",
   "execution_count": null,
   "id": "fe64ad9d-0510-4e58-be1e-7d090dd577ac",
   "metadata": {},
   "outputs": [],
   "source": [
    "# Scatter plot\n",
    "cars.plot(kind='scatter', x='horsepower', y='price', title='Horsepower vs. Price', color='green', figsize=(8,6))\n",
    "plt.grid(True)\n",
    "plt.tight_layout()\n",
    "plt.show()\n"
   ]
  }
 ],
 "metadata": {
  "kernelspec": {
   "display_name": "Python 3 (ipykernel)",
   "language": "python",
   "name": "python3"
  },
  "language_info": {
   "codemirror_mode": {
    "name": "ipython",
    "version": 3
   },
   "file_extension": ".py",
   "mimetype": "text/x-python",
   "name": "python",
   "nbconvert_exporter": "python",
   "pygments_lexer": "ipython3",
   "version": "3.12.9"
  }
 },
 "nbformat": 4,
 "nbformat_minor": 5
}
