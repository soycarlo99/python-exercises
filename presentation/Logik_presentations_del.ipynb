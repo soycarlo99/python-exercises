{
 "cells": [
  {
   "cell_type": "markdown",
   "id": "e00c8eb8-1894-43ac-ae2a-d1049c6c8091",
   "metadata": {},
   "source": [
    "# Logik"
   ]
  },
  {
   "cell_type": "raw",
   "id": "a3183df7-4e0c-4ad1-af83-e66edb46bfda",
   "metadata": {},
   "source": [
    "Logik är väldigt viktigt inom programmering\n",
    "programmering är uppbyggt på logik och struktur\n",
    "utan logik kan man inte säkerhetsställa att man utav samma algorytm får samma resultat\n",
    "\n",
    "\n",
    "< mindre än\n",
    "<= mindre än eller lika med\n",
    "> större än\n",
    ">= större än eller lika med\n",
    "== lika med\n",
    "!= inte lika med"
   ]
  },
  {
   "cell_type": "markdown",
   "id": "4891bcbf-ca4d-451b-beb8-6583709f2d17",
   "metadata": {},
   "source": [
    "# mindre än, <\n",
    "krokodil mun, vill äta den stora"
   ]
  },
  {
   "cell_type": "code",
   "execution_count": 14,
   "id": "ac77c902-d340-4cf3-9f8b-7b94f5f55407",
   "metadata": {},
   "outputs": [
    {
     "data": {
      "text/plain": [
       "True"
      ]
     },
     "execution_count": 14,
     "metadata": {},
     "output_type": "execute_result"
    }
   ],
   "source": [
    "2 < 3"
   ]
  },
  {
   "cell_type": "markdown",
   "id": "eee7b949-9dc5-4e51-bc41-daad4ea9de23",
   "metadata": {},
   "source": [
    "# mindre än eller lika med, <=\n",
    "Antingen mindre eller lika med"
   ]
  },
  {
   "cell_type": "code",
   "execution_count": 5,
   "id": "b53f6827-bd3f-42e8-aa46-53125bafb3c4",
   "metadata": {},
   "outputs": [
    {
     "data": {
      "text/plain": [
       "True"
      ]
     },
     "execution_count": 5,
     "metadata": {},
     "output_type": "execute_result"
    }
   ],
   "source": [
    "2 <= 3"
   ]
  },
  {
   "cell_type": "code",
   "execution_count": 6,
   "id": "c409f838-cef1-4690-800b-ff84c574472a",
   "metadata": {},
   "outputs": [
    {
     "data": {
      "text/plain": [
       "True"
      ]
     },
     "execution_count": 6,
     "metadata": {},
     "output_type": "execute_result"
    }
   ],
   "source": [
    "2 <= 2"
   ]
  },
  {
   "cell_type": "markdown",
   "id": "e07c3070-93ee-4fff-a374-4f9e5b98829a",
   "metadata": {},
   "source": [
    "# större än, >\n",
    "Samma logig, äta stor"
   ]
  },
  {
   "cell_type": "code",
   "execution_count": 8,
   "id": "7d5538cb-559d-41a1-8baa-5498b304078c",
   "metadata": {},
   "outputs": [
    {
     "data": {
      "text/plain": [
       "True"
      ]
     },
     "execution_count": 8,
     "metadata": {},
     "output_type": "execute_result"
    }
   ],
   "source": [
    "10 > 4"
   ]
  },
  {
   "cell_type": "markdown",
   "id": "1fa17e43-1c80-4fb4-b035-c19025bd8384",
   "metadata": {},
   "source": [
    "# större än eller lika med, >=\n",
    "Liknande mindre eller lika med"
   ]
  },
  {
   "cell_type": "code",
   "execution_count": 9,
   "id": "0bab38ad-23bc-42cb-b7de-0a2320150433",
   "metadata": {},
   "outputs": [
    {
     "data": {
      "text/plain": [
       "True"
      ]
     },
     "execution_count": 9,
     "metadata": {},
     "output_type": "execute_result"
    }
   ],
   "source": [
    "10 >= 4"
   ]
  },
  {
   "cell_type": "code",
   "execution_count": 10,
   "id": "718eef88-2b57-4b83-9ce6-84ef0bc4aaf2",
   "metadata": {},
   "outputs": [
    {
     "data": {
      "text/plain": [
       "True"
      ]
     },
     "execution_count": 10,
     "metadata": {},
     "output_type": "execute_result"
    }
   ],
   "source": [
    "10 >= 10"
   ]
  },
  {
   "cell_type": "markdown",
   "id": "d2fb91cb-e39b-44c2-b865-80005d81cfc9",
   "metadata": {},
   "source": [
    "# lika med, ==\n",
    "Viktigt att inte använda ett tecken, =\n",
    "Assign value"
   ]
  },
  {
   "cell_type": "code",
   "execution_count": 11,
   "id": "7e439a3b-1fbc-4ecf-a6ee-256eea19af2c",
   "metadata": {},
   "outputs": [
    {
     "data": {
      "text/plain": [
       "True"
      ]
     },
     "execution_count": 11,
     "metadata": {},
     "output_type": "execute_result"
    }
   ],
   "source": [
    "100 == 100"
   ]
  },
  {
   "cell_type": "code",
   "execution_count": 16,
   "id": "2ed9c537-14e5-44c9-bbde-bd31fcbf2dfb",
   "metadata": {},
   "outputs": [
    {
     "data": {
      "text/plain": [
       "False"
      ]
     },
     "execution_count": 16,
     "metadata": {},
     "output_type": "execute_result"
    }
   ],
   "source": [
    "100 == 99"
   ]
  },
  {
   "cell_type": "markdown",
   "id": "88339f07-9144-4178-bc07-0b0378fbfce9",
   "metadata": {},
   "source": [
    "# inte lika med, !="
   ]
  },
  {
   "cell_type": "code",
   "execution_count": 18,
   "id": "aa28642f-4a54-47bf-8a49-e19c9e937f9e",
   "metadata": {},
   "outputs": [
    {
     "data": {
      "text/plain": [
       "True"
      ]
     },
     "execution_count": 18,
     "metadata": {},
     "output_type": "execute_result"
    }
   ],
   "source": [
    "100 != 99"
   ]
  },
  {
   "cell_type": "code",
   "execution_count": 19,
   "id": "da52b4f6-b840-4583-bd4e-2138f2a8014b",
   "metadata": {
    "scrolled": true
   },
   "outputs": [
    {
     "data": {
      "text/plain": [
       "False"
      ]
     },
     "execution_count": 19,
     "metadata": {},
     "output_type": "execute_result"
    }
   ],
   "source": [
    "100 != 100"
   ]
  },
  {
   "cell_type": "code",
   "execution_count": 4,
   "id": "21b4acb1-9e26-49a9-ad75-7df80627ab33",
   "metadata": {},
   "outputs": [
    {
     "data": {
      "text/plain": [
       "True"
      ]
     },
     "execution_count": 4,
     "metadata": {},
     "output_type": "execute_result"
    }
   ],
   "source": [
    "4 < 5 and 6 < 5 or 7 < 96"
   ]
  },
  {
   "cell_type": "code",
   "execution_count": null,
   "id": "44e097b3-b85e-4c1d-976b-02a65fe2064d",
   "metadata": {},
   "outputs": [],
   "source": []
  }
 ],
 "metadata": {
  "kernelspec": {
   "display_name": "Python 3 (ipykernel)",
   "language": "python",
   "name": "python3"
  },
  "language_info": {
   "codemirror_mode": {
    "name": "ipython",
    "version": 3
   },
   "file_extension": ".py",
   "mimetype": "text/x-python",
   "name": "python",
   "nbconvert_exporter": "python",
   "pygments_lexer": "ipython3",
   "version": "3.12.7"
  }
 },
 "nbformat": 4,
 "nbformat_minor": 5
}
